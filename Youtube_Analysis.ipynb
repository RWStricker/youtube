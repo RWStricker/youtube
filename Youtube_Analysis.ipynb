{
  "nbformat": 4,
  "nbformat_minor": 0,
  "metadata": {
    "colab": {
      "name": "Youtube Analysis.ipynb",
      "provenance": []
    },
    "kernelspec": {
      "name": "python3",
      "display_name": "Python 3"
    },
    "language_info": {
      "name": "python"
    }
  },
  "cells": [
    {
      "cell_type": "code",
      "metadata": {
        "id": "_WhcBmVSkme_"
      },
      "source": [
        "#!pip install category_encoders\n",
        "import pandas as pd \n",
        "\n",
        "import numpy as np\n",
        "\n",
        "\n",
        "import matplotlib.pyplot as plt\n",
        "%matplotlib inline\n",
        "\n",
        "from sklearn.model_selection import train_test_split\n",
        "\n",
        "\n",
        "from category_encoders import OneHotEncoder, OrdinalEncoder\n",
        "from sklearn.impute import SimpleImputer\n",
        "from sklearn.preprocessing import StandardScaler\n",
        "\n",
        "\n",
        "from sklearn.metrics import accuracy_score, precision_score, recall_score, classification_report, roc_auc_score\n",
        "\n",
        "\n",
        "from sklearn.pipeline import make_pipeline\n",
        "\n",
        "from sklearn.linear_model import LogisticRegression, LinearRegression\n",
        "from sklearn.ensemble import RandomForestClassifier\n",
        "from sklearn.tree import DecisionTreeClassifier\n",
        "\n",
        "\n",
        "from sklearn.ensemble import GradientBoostingClassifier\n",
        "from xgboost import XGBClassifier\n",
        "\n",
        "\n",
        "from sklearn.inspection import permutation_importance\n",
        "\n",
        "\n",
        "from IPython.display import Image\n",
        "from IPython.core.display import HTML \n",
        "\n",
        "url = 'https://raw.githubusercontent.com/RWStricker/youtube/master/USvideos.csv'\n",
        "\n",
        "USvids = pd.read_csv(url)\n"
      ],
      "execution_count": 32,
      "outputs": []
    },
    {
      "cell_type": "code",
      "metadata": {
        "id": "Jt6m12t_UIPO"
      },
      "source": [
        "#Wrangle function\n",
        "def wrangle(USvids):\n",
        "  df = USvids = pd.read_csv(url, parse_dates=['publish_time'], index_col='publish_time').sort_index()\n",
        "\n",
        "\n",
        "  threshold = 25\n",
        "  high_cardinality_columns = [col for col in df.select_dtypes('object').columns if df[col].nunique() > threshold] \n",
        "  df = df.drop(columns=high_cardinality_columns)\n",
        "\n",
        "\n",
        "  constant_columns = [col for col in df.columns if df[col].nunique() == 1]\n",
        "  df = df.drop(columns=constant_columns)\n",
        "\n",
        "  df = df.drop(columns=['ratings_disabled', 'video_error_or_removed', 'comments_disabled'])\n",
        "  return df\n",
        "\n",
        "df = wrangle(USvids)"
      ],
      "execution_count": 27,
      "outputs": []
    },
    {
      "cell_type": "code",
      "metadata": {
        "colab": {
          "base_uri": "https://localhost:8080/",
          "height": 450
        },
        "id": "SXqcRsBjUnyT",
        "outputId": "e9569100-dc86-4a7d-f11e-9cad31058266"
      },
      "source": [
        "\n",
        "y = df['category_id']\n",
        "X = df.drop(columns=['category_id'])\n",
        "\n",
        "X_train, X_val, y_train, y_val = train_test_split(X, y, test_size=.1, random_state=42)\n",
        "df"
      ],
      "execution_count": 30,
      "outputs": [
        {
          "output_type": "execute_result",
          "data": {
            "text/html": [
              "<div>\n",
              "<style scoped>\n",
              "    .dataframe tbody tr th:only-of-type {\n",
              "        vertical-align: middle;\n",
              "    }\n",
              "\n",
              "    .dataframe tbody tr th {\n",
              "        vertical-align: top;\n",
              "    }\n",
              "\n",
              "    .dataframe thead th {\n",
              "        text-align: right;\n",
              "    }\n",
              "</style>\n",
              "<table border=\"1\" class=\"dataframe\">\n",
              "  <thead>\n",
              "    <tr style=\"text-align: right;\">\n",
              "      <th></th>\n",
              "      <th>category_id</th>\n",
              "      <th>views</th>\n",
              "      <th>likes</th>\n",
              "      <th>dislikes</th>\n",
              "      <th>comment_count</th>\n",
              "    </tr>\n",
              "    <tr>\n",
              "      <th>publish_time</th>\n",
              "      <th></th>\n",
              "      <th></th>\n",
              "      <th></th>\n",
              "      <th></th>\n",
              "      <th></th>\n",
              "    </tr>\n",
              "  </thead>\n",
              "  <tbody>\n",
              "    <tr>\n",
              "      <th>2006-07-23 08:24:11+00:00</th>\n",
              "      <td>24</td>\n",
              "      <td>258506</td>\n",
              "      <td>459</td>\n",
              "      <td>152</td>\n",
              "      <td>82</td>\n",
              "    </tr>\n",
              "    <tr>\n",
              "      <th>2008-04-05 18:22:40+00:00</th>\n",
              "      <td>1</td>\n",
              "      <td>50030</td>\n",
              "      <td>46</td>\n",
              "      <td>6</td>\n",
              "      <td>26</td>\n",
              "    </tr>\n",
              "    <tr>\n",
              "      <th>2008-04-05 18:22:40+00:00</th>\n",
              "      <td>1</td>\n",
              "      <td>50117</td>\n",
              "      <td>46</td>\n",
              "      <td>6</td>\n",
              "      <td>26</td>\n",
              "    </tr>\n",
              "    <tr>\n",
              "      <th>2008-04-05 18:22:40+00:00</th>\n",
              "      <td>1</td>\n",
              "      <td>49942</td>\n",
              "      <td>46</td>\n",
              "      <td>6</td>\n",
              "      <td>26</td>\n",
              "    </tr>\n",
              "    <tr>\n",
              "      <th>2008-04-05 18:22:40+00:00</th>\n",
              "      <td>1</td>\n",
              "      <td>50168</td>\n",
              "      <td>46</td>\n",
              "      <td>6</td>\n",
              "      <td>26</td>\n",
              "    </tr>\n",
              "    <tr>\n",
              "      <th>...</th>\n",
              "      <td>...</td>\n",
              "      <td>...</td>\n",
              "      <td>...</td>\n",
              "      <td>...</td>\n",
              "      <td>...</td>\n",
              "    </tr>\n",
              "    <tr>\n",
              "      <th>2018-06-13 15:06:08+00:00</th>\n",
              "      <td>17</td>\n",
              "      <td>812832</td>\n",
              "      <td>7701</td>\n",
              "      <td>320</td>\n",
              "      <td>2505</td>\n",
              "    </tr>\n",
              "    <tr>\n",
              "      <th>2018-06-13 16:00:01+00:00</th>\n",
              "      <td>10</td>\n",
              "      <td>1473589</td>\n",
              "      <td>214511</td>\n",
              "      <td>2011</td>\n",
              "      <td>17455</td>\n",
              "    </tr>\n",
              "    <tr>\n",
              "      <th>2018-06-13 16:00:24+00:00</th>\n",
              "      <td>10</td>\n",
              "      <td>296615</td>\n",
              "      <td>38671</td>\n",
              "      <td>463</td>\n",
              "      <td>2348</td>\n",
              "    </tr>\n",
              "    <tr>\n",
              "      <th>2018-06-13 18:00:32+00:00</th>\n",
              "      <td>22</td>\n",
              "      <td>402418</td>\n",
              "      <td>10070</td>\n",
              "      <td>3303</td>\n",
              "      <td>2142</td>\n",
              "    </tr>\n",
              "    <tr>\n",
              "      <th>2018-06-14 01:31:53+00:00</th>\n",
              "      <td>20</td>\n",
              "      <td>1549110</td>\n",
              "      <td>21905</td>\n",
              "      <td>1516</td>\n",
              "      <td>1318</td>\n",
              "    </tr>\n",
              "  </tbody>\n",
              "</table>\n",
              "<p>40949 rows × 5 columns</p>\n",
              "</div>"
            ],
            "text/plain": [
              "                           category_id    views  ...  dislikes  comment_count\n",
              "publish_time                                     ...                         \n",
              "2006-07-23 08:24:11+00:00           24   258506  ...       152             82\n",
              "2008-04-05 18:22:40+00:00            1    50030  ...         6             26\n",
              "2008-04-05 18:22:40+00:00            1    50117  ...         6             26\n",
              "2008-04-05 18:22:40+00:00            1    49942  ...         6             26\n",
              "2008-04-05 18:22:40+00:00            1    50168  ...         6             26\n",
              "...                                ...      ...  ...       ...            ...\n",
              "2018-06-13 15:06:08+00:00           17   812832  ...       320           2505\n",
              "2018-06-13 16:00:01+00:00           10  1473589  ...      2011          17455\n",
              "2018-06-13 16:00:24+00:00           10   296615  ...       463           2348\n",
              "2018-06-13 18:00:32+00:00           22   402418  ...      3303           2142\n",
              "2018-06-14 01:31:53+00:00           20  1549110  ...      1516           1318\n",
              "\n",
              "[40949 rows x 5 columns]"
            ]
          },
          "metadata": {},
          "execution_count": 30
        }
      ]
    },
    {
      "cell_type": "code",
      "metadata": {
        "colab": {
          "base_uri": "https://localhost:8080/"
        },
        "id": "iodq5xv-WkCH",
        "outputId": "52329eb6-a986-4a84-cfa9-cf2343ac1d1f"
      },
      "source": [
        "print(\"Baseline Accuracy\", y_train.value_counts(normalize=True).max())"
      ],
      "execution_count": 31,
      "outputs": [
        {
          "output_type": "stream",
          "name": "stdout",
          "text": [
            "Baseline Accuracy 0.24360992022575567\n"
          ]
        }
      ]
    },
    {
      "cell_type": "code",
      "metadata": {
        "colab": {
          "base_uri": "https://localhost:8080/"
        },
        "id": "E-Ns5R-pYews",
        "outputId": "bfbb81ef-ef6c-413f-f753-bd0796a8582d"
      },
      "source": [
        "model_lr = make_pipeline(\n",
        "    SimpleImputer(strategy='mean'),\n",
        "    LinearRegression()\n",
        ")\n",
        "\n",
        "model_lr.fit(X_train, y_train)"
      ],
      "execution_count": 38,
      "outputs": [
        {
          "output_type": "execute_result",
          "data": {
            "text/plain": [
              "Pipeline(memory=None,\n",
              "         steps=[('simpleimputer',\n",
              "                 SimpleImputer(add_indicator=False, copy=True, fill_value=None,\n",
              "                               missing_values=nan, strategy='mean',\n",
              "                               verbose=0)),\n",
              "                ('linearregression',\n",
              "                 LinearRegression(copy_X=True, fit_intercept=True, n_jobs=None,\n",
              "                                  normalize=False))],\n",
              "         verbose=False)"
            ]
          },
          "metadata": {},
          "execution_count": 38
        }
      ]
    },
    {
      "cell_type": "code",
      "metadata": {
        "colab": {
          "base_uri": "https://localhost:8080/"
        },
        "id": "mTcjETF7anA4",
        "outputId": "a25ff153-9971-44a5-9e3a-85d30277e3c7"
      },
      "source": [
        "model_tree = make_pipeline(\n",
        "    OrdinalEncoder(),\n",
        "    SimpleImputer(),\n",
        "    RandomForestClassifier(random_state=42)\n",
        ")\n",
        "\n",
        "model_tree.fit(X_train, y_train)"
      ],
      "execution_count": 41,
      "outputs": [
        {
          "output_type": "execute_result",
          "data": {
            "text/plain": [
              "Pipeline(memory=None,\n",
              "         steps=[('ordinalencoder',\n",
              "                 OrdinalEncoder(cols=[], drop_invariant=False,\n",
              "                                handle_missing='value', handle_unknown='value',\n",
              "                                mapping=[], return_df=True, verbose=0)),\n",
              "                ('simpleimputer',\n",
              "                 SimpleImputer(add_indicator=False, copy=True, fill_value=None,\n",
              "                               missing_values=nan, strategy='mean',\n",
              "                               verbose=0)),\n",
              "                ('randomforestclassifier',\n",
              "                 RandomForestClassifier(boo...=True, ccp_alpha=0.0,\n",
              "                                        class_weight=None, criterion='gini',\n",
              "                                        max_depth=None, max_features='auto',\n",
              "                                        max_leaf_nodes=None, max_samples=None,\n",
              "                                        min_impurity_decrease=0.0,\n",
              "                                        min_impurity_split=None,\n",
              "                                        min_samples_leaf=1, min_samples_split=2,\n",
              "                                        min_weight_fraction_leaf=0.0,\n",
              "                                        n_estimators=100, n_jobs=None,\n",
              "                                        oob_score=False, random_state=42,\n",
              "                                        verbose=0, warm_start=False))],\n",
              "         verbose=False)"
            ]
          },
          "metadata": {},
          "execution_count": 41
        }
      ]
    },
    {
      "cell_type": "code",
      "metadata": {
        "colab": {
          "base_uri": "https://localhost:8080/"
        },
        "id": "hK9gkzTga_JN",
        "outputId": "ebff58af-0ff7-439c-ab1a-fa0e0da36287"
      },
      "source": [
        "model_xgb = make_pipeline(\n",
        "    OrdinalEncoder(),\n",
        "    SimpleImputer(),\n",
        "    GradientBoostingClassifier()\n",
        ")\n",
        "\n",
        "model_xgb.fit(X_train, y_train)"
      ],
      "execution_count": 43,
      "outputs": [
        {
          "output_type": "execute_result",
          "data": {
            "text/plain": [
              "Pipeline(memory=None,\n",
              "         steps=[('ordinalencoder',\n",
              "                 OrdinalEncoder(cols=[], drop_invariant=False,\n",
              "                                handle_missing='value', handle_unknown='value',\n",
              "                                mapping=[], return_df=True, verbose=0)),\n",
              "                ('simpleimputer',\n",
              "                 SimpleImputer(add_indicator=False, copy=True, fill_value=None,\n",
              "                               missing_values=nan, strategy='mean',\n",
              "                               verbose=0)),\n",
              "                ('gradientboostingclassifier',\n",
              "                 GradientBoostingClassi...\n",
              "                                            learning_rate=0.1, loss='deviance',\n",
              "                                            max_depth=3, max_features=None,\n",
              "                                            max_leaf_nodes=None,\n",
              "                                            min_impurity_decrease=0.0,\n",
              "                                            min_impurity_split=None,\n",
              "                                            min_samples_leaf=1,\n",
              "                                            min_samples_split=2,\n",
              "                                            min_weight_fraction_leaf=0.0,\n",
              "                                            n_estimators=100,\n",
              "                                            n_iter_no_change=None,\n",
              "                                            presort='deprecated',\n",
              "                                            random_state=None, subsample=1.0,\n",
              "                                            tol=0.0001, validation_fraction=0.1,\n",
              "                                            verbose=0, warm_start=False))],\n",
              "         verbose=False)"
            ]
          },
          "metadata": {},
          "execution_count": 43
        }
      ]
    },
    {
      "cell_type": "code",
      "metadata": {
        "colab": {
          "base_uri": "https://localhost:8080/",
          "height": 450
        },
        "id": "tKGz_0uCcgD7",
        "outputId": "3e68b49f-0736-4485-a723-4cdf8be6dfc5"
      },
      "source": [
        "df"
      ],
      "execution_count": 44,
      "outputs": [
        {
          "output_type": "execute_result",
          "data": {
            "text/html": [
              "<div>\n",
              "<style scoped>\n",
              "    .dataframe tbody tr th:only-of-type {\n",
              "        vertical-align: middle;\n",
              "    }\n",
              "\n",
              "    .dataframe tbody tr th {\n",
              "        vertical-align: top;\n",
              "    }\n",
              "\n",
              "    .dataframe thead th {\n",
              "        text-align: right;\n",
              "    }\n",
              "</style>\n",
              "<table border=\"1\" class=\"dataframe\">\n",
              "  <thead>\n",
              "    <tr style=\"text-align: right;\">\n",
              "      <th></th>\n",
              "      <th>category_id</th>\n",
              "      <th>views</th>\n",
              "      <th>likes</th>\n",
              "      <th>dislikes</th>\n",
              "      <th>comment_count</th>\n",
              "    </tr>\n",
              "    <tr>\n",
              "      <th>publish_time</th>\n",
              "      <th></th>\n",
              "      <th></th>\n",
              "      <th></th>\n",
              "      <th></th>\n",
              "      <th></th>\n",
              "    </tr>\n",
              "  </thead>\n",
              "  <tbody>\n",
              "    <tr>\n",
              "      <th>2006-07-23 08:24:11+00:00</th>\n",
              "      <td>24</td>\n",
              "      <td>258506</td>\n",
              "      <td>459</td>\n",
              "      <td>152</td>\n",
              "      <td>82</td>\n",
              "    </tr>\n",
              "    <tr>\n",
              "      <th>2008-04-05 18:22:40+00:00</th>\n",
              "      <td>1</td>\n",
              "      <td>50030</td>\n",
              "      <td>46</td>\n",
              "      <td>6</td>\n",
              "      <td>26</td>\n",
              "    </tr>\n",
              "    <tr>\n",
              "      <th>2008-04-05 18:22:40+00:00</th>\n",
              "      <td>1</td>\n",
              "      <td>50117</td>\n",
              "      <td>46</td>\n",
              "      <td>6</td>\n",
              "      <td>26</td>\n",
              "    </tr>\n",
              "    <tr>\n",
              "      <th>2008-04-05 18:22:40+00:00</th>\n",
              "      <td>1</td>\n",
              "      <td>49942</td>\n",
              "      <td>46</td>\n",
              "      <td>6</td>\n",
              "      <td>26</td>\n",
              "    </tr>\n",
              "    <tr>\n",
              "      <th>2008-04-05 18:22:40+00:00</th>\n",
              "      <td>1</td>\n",
              "      <td>50168</td>\n",
              "      <td>46</td>\n",
              "      <td>6</td>\n",
              "      <td>26</td>\n",
              "    </tr>\n",
              "    <tr>\n",
              "      <th>...</th>\n",
              "      <td>...</td>\n",
              "      <td>...</td>\n",
              "      <td>...</td>\n",
              "      <td>...</td>\n",
              "      <td>...</td>\n",
              "    </tr>\n",
              "    <tr>\n",
              "      <th>2018-06-13 15:06:08+00:00</th>\n",
              "      <td>17</td>\n",
              "      <td>812832</td>\n",
              "      <td>7701</td>\n",
              "      <td>320</td>\n",
              "      <td>2505</td>\n",
              "    </tr>\n",
              "    <tr>\n",
              "      <th>2018-06-13 16:00:01+00:00</th>\n",
              "      <td>10</td>\n",
              "      <td>1473589</td>\n",
              "      <td>214511</td>\n",
              "      <td>2011</td>\n",
              "      <td>17455</td>\n",
              "    </tr>\n",
              "    <tr>\n",
              "      <th>2018-06-13 16:00:24+00:00</th>\n",
              "      <td>10</td>\n",
              "      <td>296615</td>\n",
              "      <td>38671</td>\n",
              "      <td>463</td>\n",
              "      <td>2348</td>\n",
              "    </tr>\n",
              "    <tr>\n",
              "      <th>2018-06-13 18:00:32+00:00</th>\n",
              "      <td>22</td>\n",
              "      <td>402418</td>\n",
              "      <td>10070</td>\n",
              "      <td>3303</td>\n",
              "      <td>2142</td>\n",
              "    </tr>\n",
              "    <tr>\n",
              "      <th>2018-06-14 01:31:53+00:00</th>\n",
              "      <td>20</td>\n",
              "      <td>1549110</td>\n",
              "      <td>21905</td>\n",
              "      <td>1516</td>\n",
              "      <td>1318</td>\n",
              "    </tr>\n",
              "  </tbody>\n",
              "</table>\n",
              "<p>40949 rows × 5 columns</p>\n",
              "</div>"
            ],
            "text/plain": [
              "                           category_id    views  ...  dislikes  comment_count\n",
              "publish_time                                     ...                         \n",
              "2006-07-23 08:24:11+00:00           24   258506  ...       152             82\n",
              "2008-04-05 18:22:40+00:00            1    50030  ...         6             26\n",
              "2008-04-05 18:22:40+00:00            1    50117  ...         6             26\n",
              "2008-04-05 18:22:40+00:00            1    49942  ...         6             26\n",
              "2008-04-05 18:22:40+00:00            1    50168  ...         6             26\n",
              "...                                ...      ...  ...       ...            ...\n",
              "2018-06-13 15:06:08+00:00           17   812832  ...       320           2505\n",
              "2018-06-13 16:00:01+00:00           10  1473589  ...      2011          17455\n",
              "2018-06-13 16:00:24+00:00           10   296615  ...       463           2348\n",
              "2018-06-13 18:00:32+00:00           22   402418  ...      3303           2142\n",
              "2018-06-14 01:31:53+00:00           20  1549110  ...      1516           1318\n",
              "\n",
              "[40949 rows x 5 columns]"
            ]
          },
          "metadata": {},
          "execution_count": 44
        }
      ]
    },
    {
      "cell_type": "code",
      "metadata": {
        "colab": {
          "base_uri": "https://localhost:8080/"
        },
        "id": "cK5kZojv51n-",
        "outputId": "eebedf96-50cd-460e-a29d-fabcbecc83de"
      },
      "source": [
        "print(model_lr.score(X_train, y_train))\n",
        "print(model_lr.score(X_val, y_val))"
      ],
      "execution_count": 46,
      "outputs": [
        {
          "output_type": "stream",
          "name": "stdout",
          "text": [
            "0.04231746898548405\n",
            "0.0405247081814164\n"
          ]
        }
      ]
    },
    {
      "cell_type": "code",
      "metadata": {
        "colab": {
          "base_uri": "https://localhost:8080/"
        },
        "id": "yVBzMMD27UzI",
        "outputId": "fb35bd2d-56a7-4e33-eac7-752bf9e3c4ed"
      },
      "source": [
        "print(model_tree.score(X_train, y_train))\n",
        "print(model_tree.score(X_val, y_val))"
      ],
      "execution_count": 48,
      "outputs": [
        {
          "output_type": "stream",
          "name": "stdout",
          "text": [
            "0.9996472567428231\n",
            "0.724053724053724\n"
          ]
        }
      ]
    },
    {
      "cell_type": "code",
      "metadata": {
        "colab": {
          "base_uri": "https://localhost:8080/"
        },
        "id": "ENyabm2P7gPh",
        "outputId": "112430a9-d9ad-4b22-81ed-11b25f8ffe7b"
      },
      "source": [
        "print(model_xgb.score(X_train, y_train))\n",
        "print(model_xgb.score(X_val, y_val))"
      ],
      "execution_count": 49,
      "outputs": [
        {
          "output_type": "stream",
          "name": "stdout",
          "text": [
            "0.44334400607803764\n",
            "0.3848595848595849\n"
          ]
        }
      ]
    },
    {
      "cell_type": "code",
      "metadata": {
        "colab": {
          "base_uri": "https://localhost:8080/",
          "height": 265
        },
        "id": "oiI-efBl7w5D",
        "outputId": "3b0828c8-174a-4d24-dadb-a05f71da3fc8"
      },
      "source": [
        "importances = model_tree.named_steps['randomforestclassifier'].feature_importances_\n",
        "\n",
        "gini_imp = pd.DataFrame(data=importances, index=X_val.columns, columns=['gini_impurity']).sort_values(by='gini_impurity')\n",
        "\n",
        "gini_imp.tail(10).plot(kind='barh');"
      ],
      "execution_count": 54,
      "outputs": [
        {
          "output_type": "display_data",
          "data": {
            "image/png": "[encoded data removed]",
            "text/plain": [
              "<Figure size 432x288 with 1 Axes>"
            ]
          },
          "metadata": {
            "needs_background": "light"
          }
        }
      ]
    },
    {
      "cell_type": "code",
      "metadata": {
        "id": "rZSlw0DQ9qhL"
      },
      "source": [
        ""
      ],
      "execution_count": null,
      "outputs": []
    }
  ]
}